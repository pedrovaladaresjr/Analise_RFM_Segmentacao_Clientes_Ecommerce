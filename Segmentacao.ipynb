{
 "cells": [
  {
   "cell_type": "code",
   "execution_count": 40,
   "id": "08d881c4",
   "metadata": {},
   "outputs": [
    {
     "name": "stdout",
     "output_type": "stream",
     "text": [
      "Versão Python: 3.12.4\n"
     ]
    }
   ],
   "source": [
    "from platform import python_version\n",
    "print('Versão Python: {}' .format(python_version()))"
   ]
  },
  {
   "cell_type": "code",
   "execution_count": 41,
   "id": "104c5ff0",
   "metadata": {},
   "outputs": [],
   "source": [
    "import pandas as pd\n",
    "import numpy as np\n",
    "from datetime import datetime\n",
    "from sklearn.cluster import KMeans\n",
    "from sklearn.neighbors import KernelDensity\n",
    "import matplotlib.pyplot as plt\n",
    "from matplotlib.patches import Ellipse\n",
    "import seaborn as sns"
   ]
  },
  {
   "cell_type": "code",
   "execution_count": 42,
   "id": "a3391289",
   "metadata": {},
   "outputs": [],
   "source": [
    "# Ignorando avisos de warnings\n",
    "import warnings\n",
    "warnings.simplefilter(action = 'ignore', category = FutureWarning)"
   ]
  },
  {
   "cell_type": "code",
   "execution_count": 43,
   "id": "b8ae5e2e",
   "metadata": {},
   "outputs": [],
   "source": [
    "# Carregando os dados\n",
    "carrega_dados = pd.read_csv('dados/ventas-por-factura.csv')"
   ]
  },
  {
   "cell_type": "code",
   "execution_count": 44,
   "id": "998409ba",
   "metadata": {},
   "outputs": [
    {
     "data": {
      "text/html": [
       "<div>\n",
       "<style scoped>\n",
       "    .dataframe tbody tr th:only-of-type {\n",
       "        vertical-align: middle;\n",
       "    }\n",
       "\n",
       "    .dataframe tbody tr th {\n",
       "        vertical-align: top;\n",
       "    }\n",
       "\n",
       "    .dataframe thead th {\n",
       "        text-align: right;\n",
       "    }\n",
       "</style>\n",
       "<table border=\"1\" class=\"dataframe\">\n",
       "  <thead>\n",
       "    <tr style=\"text-align: right;\">\n",
       "      <th></th>\n",
       "      <th>N° de factura</th>\n",
       "      <th>Fecha de factura</th>\n",
       "      <th>ID Cliente</th>\n",
       "      <th>País</th>\n",
       "      <th>Cantidad</th>\n",
       "      <th>Monto</th>\n",
       "    </tr>\n",
       "  </thead>\n",
       "  <tbody>\n",
       "    <tr>\n",
       "      <th>0</th>\n",
       "      <td>548370</td>\n",
       "      <td>3/30/2021 16:14:00</td>\n",
       "      <td>15528.0</td>\n",
       "      <td>United Kingdom</td>\n",
       "      <td>123</td>\n",
       "      <td>229,33</td>\n",
       "    </tr>\n",
       "    <tr>\n",
       "      <th>1</th>\n",
       "      <td>575767</td>\n",
       "      <td>11/11/2021 11:11:00</td>\n",
       "      <td>17348.0</td>\n",
       "      <td>United Kingdom</td>\n",
       "      <td>163</td>\n",
       "      <td>209,73</td>\n",
       "    </tr>\n",
       "    <tr>\n",
       "      <th>2</th>\n",
       "      <td>C570727</td>\n",
       "      <td>10/12/2021 11:32:00</td>\n",
       "      <td>12471.0</td>\n",
       "      <td>Germany</td>\n",
       "      <td>-1</td>\n",
       "      <td>-1,45</td>\n",
       "    </tr>\n",
       "    <tr>\n",
       "      <th>3</th>\n",
       "      <td>549106</td>\n",
       "      <td>4/6/2021 12:08:00</td>\n",
       "      <td>17045.0</td>\n",
       "      <td>United Kingdom</td>\n",
       "      <td>1</td>\n",
       "      <td>39,95</td>\n",
       "    </tr>\n",
       "    <tr>\n",
       "      <th>4</th>\n",
       "      <td>573112</td>\n",
       "      <td>10/27/2021 15:33:00</td>\n",
       "      <td>16416.0</td>\n",
       "      <td>United Kingdom</td>\n",
       "      <td>357</td>\n",
       "      <td>344,83</td>\n",
       "    </tr>\n",
       "  </tbody>\n",
       "</table>\n",
       "</div>"
      ],
      "text/plain": [
       "  N° de factura     Fecha de factura  ID Cliente            País  Cantidad  \\\n",
       "0        548370   3/30/2021 16:14:00     15528.0  United Kingdom       123   \n",
       "1        575767  11/11/2021 11:11:00     17348.0  United Kingdom       163   \n",
       "2       C570727  10/12/2021 11:32:00     12471.0         Germany        -1   \n",
       "3        549106    4/6/2021 12:08:00     17045.0  United Kingdom         1   \n",
       "4        573112  10/27/2021 15:33:00     16416.0  United Kingdom       357   \n",
       "\n",
       "    Monto  \n",
       "0  229,33  \n",
       "1  209,73  \n",
       "2   -1,45  \n",
       "3   39,95  \n",
       "4  344,83  "
      ]
     },
     "execution_count": 44,
     "metadata": {},
     "output_type": "execute_result"
    }
   ],
   "source": [
    "carrega_dados.head()"
   ]
  },
  {
   "cell_type": "code",
   "execution_count": 7,
   "id": "31046f56",
   "metadata": {
    "scrolled": true
   },
   "outputs": [
    {
     "name": "stdout",
     "output_type": "stream",
     "text": [
      "<class 'pandas.core.frame.DataFrame'>\n",
      "RangeIndex: 25953 entries, 0 to 25952\n",
      "Data columns (total 6 columns):\n",
      " #   Column            Non-Null Count  Dtype  \n",
      "---  ------            --------------  -----  \n",
      " 0   N° de factura     25953 non-null  object \n",
      " 1   Fecha de factura  25953 non-null  object \n",
      " 2   ID Cliente        22229 non-null  float64\n",
      " 3   País              25953 non-null  object \n",
      " 4   Cantidad          25953 non-null  int64  \n",
      " 5   Monto             25953 non-null  object \n",
      "dtypes: float64(1), int64(1), object(4)\n",
      "memory usage: 1.2+ MB\n"
     ]
    }
   ],
   "source": [
    "carrega_dados.info()"
   ]
  },
  {
   "cell_type": "code",
   "execution_count": 8,
   "id": "386dea74",
   "metadata": {},
   "outputs": [
    {
     "data": {
      "text/plain": [
       "Index(['N° de factura', 'Fecha de factura', 'ID Cliente', 'País', 'Cantidad',\n",
       "       'Monto'],\n",
       "      dtype='object')"
      ]
     },
     "execution_count": 8,
     "metadata": {},
     "output_type": "execute_result"
    }
   ],
   "source": [
    "carrega_dados.columns"
   ]
  },
  {
   "cell_type": "code",
   "execution_count": 9,
   "id": "7331c8df",
   "metadata": {},
   "outputs": [],
   "source": [
    "df1 = carrega_dados"
   ]
  },
  {
   "cell_type": "code",
   "execution_count": 10,
   "id": "1f6b97d3",
   "metadata": {},
   "outputs": [
    {
     "data": {
      "text/plain": [
       "N° de factura          0\n",
       "Fecha de factura       0\n",
       "ID Cliente          3724\n",
       "País                   0\n",
       "Cantidad               0\n",
       "Monto                  0\n",
       "dtype: int64"
      ]
     },
     "execution_count": 10,
     "metadata": {},
     "output_type": "execute_result"
    }
   ],
   "source": [
    "# Verifica os valores ausentes por coluna\n",
    "df1.isna().sum()"
   ]
  },
  {
   "cell_type": "code",
   "execution_count": 11,
   "id": "9e510188",
   "metadata": {},
   "outputs": [
    {
     "data": {
      "text/plain": [
       "N° de factura       0\n",
       "Fecha de factura    0\n",
       "ID Cliente          0\n",
       "País                0\n",
       "Cantidad            0\n",
       "Monto               0\n",
       "dtype: int64"
      ]
     },
     "execution_count": 11,
     "metadata": {},
     "output_type": "execute_result"
    }
   ],
   "source": [
    "# Excluindo valores ausentes\n",
    "df1 = carrega_dados.dropna()\n",
    "df1.isna().sum()"
   ]
  },
  {
   "cell_type": "code",
   "execution_count": 12,
   "id": "d44bbc17",
   "metadata": {},
   "outputs": [
    {
     "data": {
      "text/plain": [
       "(22229, 6)"
      ]
     },
     "execution_count": 12,
     "metadata": {},
     "output_type": "execute_result"
    }
   ],
   "source": [
    "# df1.head()\n",
    "df1.shape"
   ]
  },
  {
   "cell_type": "code",
   "execution_count": 13,
   "id": "17ffcbd7",
   "metadata": {},
   "outputs": [
    {
     "name": "stderr",
     "output_type": "stream",
     "text": [
      "/tmp/ipykernel_74338/1191751825.py:4: SettingWithCopyWarning: \n",
      "A value is trying to be set on a copy of a slice from a DataFrame.\n",
      "Try using .loc[row_indexer,col_indexer] = value instead\n",
      "\n",
      "See the caveats in the documentation: https://pandas.pydata.org/pandas-docs/stable/user_guide/indexing.html#returning-a-view-versus-a-copy\n",
      "  df1['Monto'] = df1['Monto'].str.replace(',', '.')\n",
      "/tmp/ipykernel_74338/1191751825.py:7: SettingWithCopyWarning: \n",
      "A value is trying to be set on a copy of a slice from a DataFrame.\n",
      "Try using .loc[row_indexer,col_indexer] = value instead\n",
      "\n",
      "See the caveats in the documentation: https://pandas.pydata.org/pandas-docs/stable/user_guide/indexing.html#returning-a-view-versus-a-copy\n",
      "  df1['Monto'] = df1['Monto'].astype(float)\n"
     ]
    }
   ],
   "source": [
    "# Limpeza e Pré-processamento dos dados\n",
    "\n",
    "# Alterando vírgula para ponto, para podermos converter para valor numérico\n",
    "df1['Monto'] = df1['Monto'].str.replace(',', '.')\n",
    "    \n",
    "# Converte coluna\n",
    "df1['Monto'] = df1['Monto'].astype(float)"
   ]
  },
  {
   "cell_type": "code",
   "execution_count": 14,
   "id": "7b74fb67",
   "metadata": {},
   "outputs": [
    {
     "data": {
      "text/html": [
       "<div>\n",
       "<style scoped>\n",
       "    .dataframe tbody tr th:only-of-type {\n",
       "        vertical-align: middle;\n",
       "    }\n",
       "\n",
       "    .dataframe tbody tr th {\n",
       "        vertical-align: top;\n",
       "    }\n",
       "\n",
       "    .dataframe thead th {\n",
       "        text-align: right;\n",
       "    }\n",
       "</style>\n",
       "<table border=\"1\" class=\"dataframe\">\n",
       "  <thead>\n",
       "    <tr style=\"text-align: right;\">\n",
       "      <th></th>\n",
       "      <th>N° de factura</th>\n",
       "      <th>Fecha de factura</th>\n",
       "      <th>ID Cliente</th>\n",
       "      <th>País</th>\n",
       "      <th>Cantidad</th>\n",
       "      <th>Monto</th>\n",
       "    </tr>\n",
       "  </thead>\n",
       "  <tbody>\n",
       "    <tr>\n",
       "      <th>0</th>\n",
       "      <td>548370</td>\n",
       "      <td>3/30/2021 16:14:00</td>\n",
       "      <td>15528.0</td>\n",
       "      <td>United Kingdom</td>\n",
       "      <td>123</td>\n",
       "      <td>229.33</td>\n",
       "    </tr>\n",
       "    <tr>\n",
       "      <th>1</th>\n",
       "      <td>575767</td>\n",
       "      <td>11/11/2021 11:11:00</td>\n",
       "      <td>17348.0</td>\n",
       "      <td>United Kingdom</td>\n",
       "      <td>163</td>\n",
       "      <td>209.73</td>\n",
       "    </tr>\n",
       "    <tr>\n",
       "      <th>3</th>\n",
       "      <td>549106</td>\n",
       "      <td>4/6/2021 12:08:00</td>\n",
       "      <td>17045.0</td>\n",
       "      <td>United Kingdom</td>\n",
       "      <td>1</td>\n",
       "      <td>39.95</td>\n",
       "    </tr>\n",
       "    <tr>\n",
       "      <th>4</th>\n",
       "      <td>573112</td>\n",
       "      <td>10/27/2021 15:33:00</td>\n",
       "      <td>16416.0</td>\n",
       "      <td>United Kingdom</td>\n",
       "      <td>357</td>\n",
       "      <td>344.83</td>\n",
       "    </tr>\n",
       "    <tr>\n",
       "      <th>5</th>\n",
       "      <td>576630</td>\n",
       "      <td>11/16/2021 8:38:00</td>\n",
       "      <td>13816.0</td>\n",
       "      <td>Germany</td>\n",
       "      <td>91</td>\n",
       "      <td>199.98</td>\n",
       "    </tr>\n",
       "    <tr>\n",
       "      <th>...</th>\n",
       "      <td>...</td>\n",
       "      <td>...</td>\n",
       "      <td>...</td>\n",
       "      <td>...</td>\n",
       "      <td>...</td>\n",
       "      <td>...</td>\n",
       "    </tr>\n",
       "    <tr>\n",
       "      <th>25945</th>\n",
       "      <td>579252</td>\n",
       "      <td>11/28/2021 16:47:00</td>\n",
       "      <td>17450.0</td>\n",
       "      <td>United Kingdom</td>\n",
       "      <td>432</td>\n",
       "      <td>1034.40</td>\n",
       "    </tr>\n",
       "    <tr>\n",
       "      <th>25946</th>\n",
       "      <td>574908</td>\n",
       "      <td>11/7/2021 15:37:00</td>\n",
       "      <td>16009.0</td>\n",
       "      <td>United Kingdom</td>\n",
       "      <td>28</td>\n",
       "      <td>82.76</td>\n",
       "    </tr>\n",
       "    <tr>\n",
       "      <th>25949</th>\n",
       "      <td>553060</td>\n",
       "      <td>5/13/2021 10:44:00</td>\n",
       "      <td>15826.0</td>\n",
       "      <td>United Kingdom</td>\n",
       "      <td>488</td>\n",
       "      <td>720.00</td>\n",
       "    </tr>\n",
       "    <tr>\n",
       "      <th>25950</th>\n",
       "      <td>577049</td>\n",
       "      <td>11/17/2021 13:58:00</td>\n",
       "      <td>17397.0</td>\n",
       "      <td>United Kingdom</td>\n",
       "      <td>104</td>\n",
       "      <td>298.78</td>\n",
       "    </tr>\n",
       "    <tr>\n",
       "      <th>25951</th>\n",
       "      <td>550122</td>\n",
       "      <td>4/14/2021 12:39:00</td>\n",
       "      <td>12931.0</td>\n",
       "      <td>United Kingdom</td>\n",
       "      <td>1176</td>\n",
       "      <td>1488.00</td>\n",
       "    </tr>\n",
       "  </tbody>\n",
       "</table>\n",
       "<p>18570 rows × 6 columns</p>\n",
       "</div>"
      ],
      "text/plain": [
       "      N° de factura     Fecha de factura  ID Cliente            País  \\\n",
       "0            548370   3/30/2021 16:14:00     15528.0  United Kingdom   \n",
       "1            575767  11/11/2021 11:11:00     17348.0  United Kingdom   \n",
       "3            549106    4/6/2021 12:08:00     17045.0  United Kingdom   \n",
       "4            573112  10/27/2021 15:33:00     16416.0  United Kingdom   \n",
       "5            576630   11/16/2021 8:38:00     13816.0         Germany   \n",
       "...             ...                  ...         ...             ...   \n",
       "25945        579252  11/28/2021 16:47:00     17450.0  United Kingdom   \n",
       "25946        574908   11/7/2021 15:37:00     16009.0  United Kingdom   \n",
       "25949        553060   5/13/2021 10:44:00     15826.0  United Kingdom   \n",
       "25950        577049  11/17/2021 13:58:00     17397.0  United Kingdom   \n",
       "25951        550122   4/14/2021 12:39:00     12931.0  United Kingdom   \n",
       "\n",
       "       Cantidad    Monto  \n",
       "0           123   229.33  \n",
       "1           163   209.73  \n",
       "3             1    39.95  \n",
       "4           357   344.83  \n",
       "5            91   199.98  \n",
       "...         ...      ...  \n",
       "25945       432  1034.40  \n",
       "25946        28    82.76  \n",
       "25949       488   720.00  \n",
       "25950       104   298.78  \n",
       "25951      1176  1488.00  \n",
       "\n",
       "[18570 rows x 6 columns]"
      ]
     },
     "execution_count": 14,
     "metadata": {},
     "output_type": "execute_result"
    }
   ],
   "source": [
    "# Excluindo valores negativos\n",
    "df1 = df1[df1['Cantidad'] >= 0]\n",
    "df1 = df1[df1['Monto'] >= 0]\n",
    "df1"
   ]
  },
  {
   "cell_type": "code",
   "execution_count": 15,
   "id": "0d092508",
   "metadata": {},
   "outputs": [
    {
     "data": {
      "text/plain": [
       "(18570, 6)"
      ]
     },
     "execution_count": 15,
     "metadata": {},
     "output_type": "execute_result"
    }
   ],
   "source": [
    "df1.shape"
   ]
  },
  {
   "cell_type": "code",
   "execution_count": 16,
   "id": "a461a46d",
   "metadata": {},
   "outputs": [
    {
     "data": {
      "text/plain": [
       "0"
      ]
     },
     "execution_count": 16,
     "metadata": {},
     "output_type": "execute_result"
    }
   ],
   "source": [
    "# Verificando se há valores menores que zero em 'Cantidad'\n",
    "#(df1['Cantidad'] < 0).any().sum()\n",
    "df1[df1['Cantidad'] < 0].any().sum()"
   ]
  },
  {
   "cell_type": "code",
   "execution_count": 17,
   "id": "8767aa2d",
   "metadata": {
    "scrolled": true
   },
   "outputs": [
    {
     "data": {
      "text/html": [
       "<div>\n",
       "<style scoped>\n",
       "    .dataframe tbody tr th:only-of-type {\n",
       "        vertical-align: middle;\n",
       "    }\n",
       "\n",
       "    .dataframe tbody tr th {\n",
       "        vertical-align: top;\n",
       "    }\n",
       "\n",
       "    .dataframe thead th {\n",
       "        text-align: right;\n",
       "    }\n",
       "</style>\n",
       "<table border=\"1\" class=\"dataframe\">\n",
       "  <thead>\n",
       "    <tr style=\"text-align: right;\">\n",
       "      <th></th>\n",
       "      <th>N° de factura</th>\n",
       "      <th>Fecha de factura</th>\n",
       "      <th>ID Cliente</th>\n",
       "      <th>País</th>\n",
       "      <th>Cantidad</th>\n",
       "      <th>Monto</th>\n",
       "    </tr>\n",
       "  </thead>\n",
       "  <tbody>\n",
       "    <tr>\n",
       "      <th>0</th>\n",
       "      <td>548370</td>\n",
       "      <td>3/30/2021 16:14:00</td>\n",
       "      <td>15528.0</td>\n",
       "      <td>United Kingdom</td>\n",
       "      <td>123</td>\n",
       "      <td>229.33</td>\n",
       "    </tr>\n",
       "    <tr>\n",
       "      <th>1</th>\n",
       "      <td>575767</td>\n",
       "      <td>11/11/2021 11:11:00</td>\n",
       "      <td>17348.0</td>\n",
       "      <td>United Kingdom</td>\n",
       "      <td>163</td>\n",
       "      <td>209.73</td>\n",
       "    </tr>\n",
       "    <tr>\n",
       "      <th>3</th>\n",
       "      <td>549106</td>\n",
       "      <td>4/6/2021 12:08:00</td>\n",
       "      <td>17045.0</td>\n",
       "      <td>United Kingdom</td>\n",
       "      <td>1</td>\n",
       "      <td>39.95</td>\n",
       "    </tr>\n",
       "    <tr>\n",
       "      <th>4</th>\n",
       "      <td>573112</td>\n",
       "      <td>10/27/2021 15:33:00</td>\n",
       "      <td>16416.0</td>\n",
       "      <td>United Kingdom</td>\n",
       "      <td>357</td>\n",
       "      <td>344.83</td>\n",
       "    </tr>\n",
       "    <tr>\n",
       "      <th>5</th>\n",
       "      <td>576630</td>\n",
       "      <td>11/16/2021 8:38:00</td>\n",
       "      <td>13816.0</td>\n",
       "      <td>Germany</td>\n",
       "      <td>91</td>\n",
       "      <td>199.98</td>\n",
       "    </tr>\n",
       "    <tr>\n",
       "      <th>...</th>\n",
       "      <td>...</td>\n",
       "      <td>...</td>\n",
       "      <td>...</td>\n",
       "      <td>...</td>\n",
       "      <td>...</td>\n",
       "      <td>...</td>\n",
       "    </tr>\n",
       "    <tr>\n",
       "      <th>25945</th>\n",
       "      <td>579252</td>\n",
       "      <td>11/28/2021 16:47:00</td>\n",
       "      <td>17450.0</td>\n",
       "      <td>United Kingdom</td>\n",
       "      <td>432</td>\n",
       "      <td>1034.40</td>\n",
       "    </tr>\n",
       "    <tr>\n",
       "      <th>25946</th>\n",
       "      <td>574908</td>\n",
       "      <td>11/7/2021 15:37:00</td>\n",
       "      <td>16009.0</td>\n",
       "      <td>United Kingdom</td>\n",
       "      <td>28</td>\n",
       "      <td>82.76</td>\n",
       "    </tr>\n",
       "    <tr>\n",
       "      <th>25949</th>\n",
       "      <td>553060</td>\n",
       "      <td>5/13/2021 10:44:00</td>\n",
       "      <td>15826.0</td>\n",
       "      <td>United Kingdom</td>\n",
       "      <td>488</td>\n",
       "      <td>720.00</td>\n",
       "    </tr>\n",
       "    <tr>\n",
       "      <th>25950</th>\n",
       "      <td>577049</td>\n",
       "      <td>11/17/2021 13:58:00</td>\n",
       "      <td>17397.0</td>\n",
       "      <td>United Kingdom</td>\n",
       "      <td>104</td>\n",
       "      <td>298.78</td>\n",
       "    </tr>\n",
       "    <tr>\n",
       "      <th>25951</th>\n",
       "      <td>550122</td>\n",
       "      <td>4/14/2021 12:39:00</td>\n",
       "      <td>12931.0</td>\n",
       "      <td>United Kingdom</td>\n",
       "      <td>1176</td>\n",
       "      <td>1488.00</td>\n",
       "    </tr>\n",
       "  </tbody>\n",
       "</table>\n",
       "<p>18570 rows × 6 columns</p>\n",
       "</div>"
      ],
      "text/plain": [
       "      N° de factura     Fecha de factura  ID Cliente            País  \\\n",
       "0            548370   3/30/2021 16:14:00     15528.0  United Kingdom   \n",
       "1            575767  11/11/2021 11:11:00     17348.0  United Kingdom   \n",
       "3            549106    4/6/2021 12:08:00     17045.0  United Kingdom   \n",
       "4            573112  10/27/2021 15:33:00     16416.0  United Kingdom   \n",
       "5            576630   11/16/2021 8:38:00     13816.0         Germany   \n",
       "...             ...                  ...         ...             ...   \n",
       "25945        579252  11/28/2021 16:47:00     17450.0  United Kingdom   \n",
       "25946        574908   11/7/2021 15:37:00     16009.0  United Kingdom   \n",
       "25949        553060   5/13/2021 10:44:00     15826.0  United Kingdom   \n",
       "25950        577049  11/17/2021 13:58:00     17397.0  United Kingdom   \n",
       "25951        550122   4/14/2021 12:39:00     12931.0  United Kingdom   \n",
       "\n",
       "       Cantidad    Monto  \n",
       "0           123   229.33  \n",
       "1           163   209.73  \n",
       "3             1    39.95  \n",
       "4           357   344.83  \n",
       "5            91   199.98  \n",
       "...         ...      ...  \n",
       "25945       432  1034.40  \n",
       "25946        28    82.76  \n",
       "25949       488   720.00  \n",
       "25950       104   298.78  \n",
       "25951      1176  1488.00  \n",
       "\n",
       "[18570 rows x 6 columns]"
      ]
     },
     "execution_count": 17,
     "metadata": {},
     "output_type": "execute_result"
    }
   ],
   "source": [
    "# Excluindo dados de transações canceladas\n",
    "# No dicionário do dataset, está especificado que contém informações na coluna 'Nº de Fatura'\n",
    "# que possuem a letra 'C', dado como cancelamento de compra.\n",
    "df1[~df1['N° de factura'].str.contains('c', case = False)]"
   ]
  },
  {
   "cell_type": "code",
   "execution_count": 18,
   "id": "c8e8d533",
   "metadata": {},
   "outputs": [
    {
     "data": {
      "text/plain": [
       "(18570, 6)"
      ]
     },
     "execution_count": 18,
     "metadata": {},
     "output_type": "execute_result"
    }
   ],
   "source": [
    "df1.shape"
   ]
  },
  {
   "cell_type": "code",
   "execution_count": 19,
   "id": "2e63eadd",
   "metadata": {},
   "outputs": [
    {
     "data": {
      "text/plain": [
       "0"
      ]
     },
     "execution_count": 19,
     "metadata": {},
     "output_type": "execute_result"
    }
   ],
   "source": [
    "# Verifica se ainda há alguma observação com status cancelado.\n",
    "df1['N° de factura'].str.contains('c', case = False).sum()"
   ]
  },
  {
   "cell_type": "code",
   "execution_count": 20,
   "id": "337a4d3c",
   "metadata": {},
   "outputs": [
    {
     "name": "stdout",
     "output_type": "stream",
     "text": [
      "O total de duplicados na coluna 'Nº Fatura' era: 34\n",
      "Após o tratamento, este número foi para: 0\n"
     ]
    }
   ],
   "source": [
    "# Verifica duplicados\n",
    "verifica_duplicado = df1['N° de factura'].duplicated().sum()\n",
    "\n",
    "# Removendo valores duplicados da coluna 'Nº Fatura'\n",
    "dados = df1.drop_duplicates(subset = ['N° de factura'])\n",
    "\n",
    "print(\"O total de duplicados na coluna 'Nº Fatura' era: {}\" .format(verifica_duplicado))\n",
    "print(\"Após o tratamento, este número foi para: {}\" .format(dados['N° de factura'].duplicated().sum()))"
   ]
  },
  {
   "cell_type": "code",
   "execution_count": 21,
   "id": "790ae55a",
   "metadata": {},
   "outputs": [
    {
     "data": {
      "text/plain": [
       "(18536, 6)"
      ]
     },
     "execution_count": 21,
     "metadata": {},
     "output_type": "execute_result"
    }
   ],
   "source": [
    "dados.shape"
   ]
  },
  {
   "cell_type": "code",
   "execution_count": 22,
   "id": "7fbf90f6",
   "metadata": {},
   "outputs": [
    {
     "data": {
      "text/html": [
       "<div>\n",
       "<style scoped>\n",
       "    .dataframe tbody tr th:only-of-type {\n",
       "        vertical-align: middle;\n",
       "    }\n",
       "\n",
       "    .dataframe tbody tr th {\n",
       "        vertical-align: top;\n",
       "    }\n",
       "\n",
       "    .dataframe thead th {\n",
       "        text-align: right;\n",
       "    }\n",
       "</style>\n",
       "<table border=\"1\" class=\"dataframe\">\n",
       "  <thead>\n",
       "    <tr style=\"text-align: right;\">\n",
       "      <th></th>\n",
       "      <th>N° de factura</th>\n",
       "      <th>Fecha de factura</th>\n",
       "      <th>ID Cliente</th>\n",
       "      <th>País</th>\n",
       "      <th>Cantidad</th>\n",
       "      <th>Monto</th>\n",
       "    </tr>\n",
       "  </thead>\n",
       "  <tbody>\n",
       "    <tr>\n",
       "      <th>0</th>\n",
       "      <td>548370</td>\n",
       "      <td>3/30/2021 16:14:00</td>\n",
       "      <td>15528.0</td>\n",
       "      <td>United Kingdom</td>\n",
       "      <td>123</td>\n",
       "      <td>229.33</td>\n",
       "    </tr>\n",
       "    <tr>\n",
       "      <th>1</th>\n",
       "      <td>575767</td>\n",
       "      <td>11/11/2021 11:11:00</td>\n",
       "      <td>17348.0</td>\n",
       "      <td>United Kingdom</td>\n",
       "      <td>163</td>\n",
       "      <td>209.73</td>\n",
       "    </tr>\n",
       "    <tr>\n",
       "      <th>3</th>\n",
       "      <td>549106</td>\n",
       "      <td>4/6/2021 12:08:00</td>\n",
       "      <td>17045.0</td>\n",
       "      <td>United Kingdom</td>\n",
       "      <td>1</td>\n",
       "      <td>39.95</td>\n",
       "    </tr>\n",
       "    <tr>\n",
       "      <th>4</th>\n",
       "      <td>573112</td>\n",
       "      <td>10/27/2021 15:33:00</td>\n",
       "      <td>16416.0</td>\n",
       "      <td>United Kingdom</td>\n",
       "      <td>357</td>\n",
       "      <td>344.83</td>\n",
       "    </tr>\n",
       "    <tr>\n",
       "      <th>5</th>\n",
       "      <td>576630</td>\n",
       "      <td>11/16/2021 8:38:00</td>\n",
       "      <td>13816.0</td>\n",
       "      <td>Germany</td>\n",
       "      <td>91</td>\n",
       "      <td>199.98</td>\n",
       "    </tr>\n",
       "  </tbody>\n",
       "</table>\n",
       "</div>"
      ],
      "text/plain": [
       "  N° de factura     Fecha de factura  ID Cliente            País  Cantidad  \\\n",
       "0        548370   3/30/2021 16:14:00     15528.0  United Kingdom       123   \n",
       "1        575767  11/11/2021 11:11:00     17348.0  United Kingdom       163   \n",
       "3        549106    4/6/2021 12:08:00     17045.0  United Kingdom         1   \n",
       "4        573112  10/27/2021 15:33:00     16416.0  United Kingdom       357   \n",
       "5        576630   11/16/2021 8:38:00     13816.0         Germany        91   \n",
       "\n",
       "    Monto  \n",
       "0  229.33  \n",
       "1  209.73  \n",
       "3   39.95  \n",
       "4  344.83  \n",
       "5  199.98  "
      ]
     },
     "execution_count": 22,
     "metadata": {},
     "output_type": "execute_result"
    }
   ],
   "source": [
    "dados.head()"
   ]
  },
  {
   "cell_type": "code",
   "execution_count": 23,
   "id": "a0fc4de8",
   "metadata": {},
   "outputs": [
    {
     "name": "stdout",
     "output_type": "stream",
     "text": [
      "<class 'pandas.core.series.Series'>\n",
      "Index: 18536 entries, 0 to 25951\n",
      "Series name: Monto\n",
      "Non-Null Count  Dtype  \n",
      "--------------  -----  \n",
      "18536 non-null  float64\n",
      "dtypes: float64(1)\n",
      "memory usage: 289.6 KB\n"
     ]
    }
   ],
   "source": [
    "dataset = dados\n",
    "\n",
    "dataset['Monto'].info()"
   ]
  },
  {
   "cell_type": "code",
   "execution_count": 24,
   "id": "b0f76208",
   "metadata": {},
   "outputs": [
    {
     "name": "stdout",
     "output_type": "stream",
     "text": [
      "<class 'pandas.core.frame.DataFrame'>\n",
      "Index: 18536 entries, 0 to 25951\n",
      "Data columns (total 6 columns):\n",
      " #   Column            Non-Null Count  Dtype  \n",
      "---  ------            --------------  -----  \n",
      " 0   N° de factura     18536 non-null  object \n",
      " 1   Fecha de factura  18536 non-null  object \n",
      " 2   ID Cliente        18536 non-null  float64\n",
      " 3   País              18536 non-null  object \n",
      " 4   Cantidad          18536 non-null  int64  \n",
      " 5   Monto             18536 non-null  float64\n",
      "dtypes: float64(2), int64(1), object(3)\n",
      "memory usage: 1013.7+ KB\n"
     ]
    }
   ],
   "source": [
    "dataset.info()"
   ]
  },
  {
   "cell_type": "code",
   "execution_count": 25,
   "id": "8fd7a15e",
   "metadata": {},
   "outputs": [
    {
     "name": "stderr",
     "output_type": "stream",
     "text": [
      "/tmp/ipykernel_74338/1080108825.py:4: SettingWithCopyWarning: \n",
      "A value is trying to be set on a copy of a slice from a DataFrame.\n",
      "Try using .loc[row_indexer,col_indexer] = value instead\n",
      "\n",
      "See the caveats in the documentation: https://pandas.pydata.org/pandas-docs/stable/user_guide/indexing.html#returning-a-view-versus-a-copy\n",
      "  dataset.loc[:, 'MontoTotal'] = dataset['Cantidad'] * dataset['Monto']\n"
     ]
    }
   ],
   "source": [
    "# Criando uma nova coluna \n",
    "# O uso do loc foi feito para não gerar warnings, já que não estou realizando operações\n",
    "# no dataset original e sim em parte dele\n",
    "dataset.loc[:, 'MontoTotal'] = dataset['Cantidad'] * dataset['Monto']"
   ]
  },
  {
   "cell_type": "code",
   "execution_count": 26,
   "id": "c7668fda",
   "metadata": {},
   "outputs": [
    {
     "data": {
      "text/html": [
       "<div>\n",
       "<style scoped>\n",
       "    .dataframe tbody tr th:only-of-type {\n",
       "        vertical-align: middle;\n",
       "    }\n",
       "\n",
       "    .dataframe tbody tr th {\n",
       "        vertical-align: top;\n",
       "    }\n",
       "\n",
       "    .dataframe thead th {\n",
       "        text-align: right;\n",
       "    }\n",
       "</style>\n",
       "<table border=\"1\" class=\"dataframe\">\n",
       "  <thead>\n",
       "    <tr style=\"text-align: right;\">\n",
       "      <th></th>\n",
       "      <th>N° de factura</th>\n",
       "      <th>Fecha de factura</th>\n",
       "      <th>ID Cliente</th>\n",
       "      <th>País</th>\n",
       "      <th>Cantidad</th>\n",
       "      <th>Monto</th>\n",
       "      <th>MontoTotal</th>\n",
       "    </tr>\n",
       "  </thead>\n",
       "  <tbody>\n",
       "    <tr>\n",
       "      <th>0</th>\n",
       "      <td>548370</td>\n",
       "      <td>3/30/2021 16:14:00</td>\n",
       "      <td>15528.0</td>\n",
       "      <td>United Kingdom</td>\n",
       "      <td>123</td>\n",
       "      <td>229.33</td>\n",
       "      <td>28207.59</td>\n",
       "    </tr>\n",
       "    <tr>\n",
       "      <th>1</th>\n",
       "      <td>575767</td>\n",
       "      <td>11/11/2021 11:11:00</td>\n",
       "      <td>17348.0</td>\n",
       "      <td>United Kingdom</td>\n",
       "      <td>163</td>\n",
       "      <td>209.73</td>\n",
       "      <td>34185.99</td>\n",
       "    </tr>\n",
       "    <tr>\n",
       "      <th>3</th>\n",
       "      <td>549106</td>\n",
       "      <td>4/6/2021 12:08:00</td>\n",
       "      <td>17045.0</td>\n",
       "      <td>United Kingdom</td>\n",
       "      <td>1</td>\n",
       "      <td>39.95</td>\n",
       "      <td>39.95</td>\n",
       "    </tr>\n",
       "    <tr>\n",
       "      <th>4</th>\n",
       "      <td>573112</td>\n",
       "      <td>10/27/2021 15:33:00</td>\n",
       "      <td>16416.0</td>\n",
       "      <td>United Kingdom</td>\n",
       "      <td>357</td>\n",
       "      <td>344.83</td>\n",
       "      <td>123104.31</td>\n",
       "    </tr>\n",
       "    <tr>\n",
       "      <th>5</th>\n",
       "      <td>576630</td>\n",
       "      <td>11/16/2021 8:38:00</td>\n",
       "      <td>13816.0</td>\n",
       "      <td>Germany</td>\n",
       "      <td>91</td>\n",
       "      <td>199.98</td>\n",
       "      <td>18198.18</td>\n",
       "    </tr>\n",
       "    <tr>\n",
       "      <th>6</th>\n",
       "      <td>538125</td>\n",
       "      <td>12/9/2020 15:46:00</td>\n",
       "      <td>18225.0</td>\n",
       "      <td>United Kingdom</td>\n",
       "      <td>16</td>\n",
       "      <td>30.00</td>\n",
       "      <td>480.00</td>\n",
       "    </tr>\n",
       "    <tr>\n",
       "      <th>7</th>\n",
       "      <td>544354</td>\n",
       "      <td>2/18/2021 10:42:00</td>\n",
       "      <td>13489.0</td>\n",
       "      <td>United Kingdom</td>\n",
       "      <td>64</td>\n",
       "      <td>77.28</td>\n",
       "      <td>4945.92</td>\n",
       "    </tr>\n",
       "    <tr>\n",
       "      <th>8</th>\n",
       "      <td>546369</td>\n",
       "      <td>3/11/2021 11:41:00</td>\n",
       "      <td>15513.0</td>\n",
       "      <td>United Kingdom</td>\n",
       "      <td>10</td>\n",
       "      <td>67.50</td>\n",
       "      <td>675.00</td>\n",
       "    </tr>\n",
       "  </tbody>\n",
       "</table>\n",
       "</div>"
      ],
      "text/plain": [
       "  N° de factura     Fecha de factura  ID Cliente            País  Cantidad  \\\n",
       "0        548370   3/30/2021 16:14:00     15528.0  United Kingdom       123   \n",
       "1        575767  11/11/2021 11:11:00     17348.0  United Kingdom       163   \n",
       "3        549106    4/6/2021 12:08:00     17045.0  United Kingdom         1   \n",
       "4        573112  10/27/2021 15:33:00     16416.0  United Kingdom       357   \n",
       "5        576630   11/16/2021 8:38:00     13816.0         Germany        91   \n",
       "6        538125   12/9/2020 15:46:00     18225.0  United Kingdom        16   \n",
       "7        544354   2/18/2021 10:42:00     13489.0  United Kingdom        64   \n",
       "8        546369   3/11/2021 11:41:00     15513.0  United Kingdom        10   \n",
       "\n",
       "    Monto  MontoTotal  \n",
       "0  229.33    28207.59  \n",
       "1  209.73    34185.99  \n",
       "3   39.95       39.95  \n",
       "4  344.83   123104.31  \n",
       "5  199.98    18198.18  \n",
       "6   30.00      480.00  \n",
       "7   77.28     4945.92  \n",
       "8   67.50      675.00  "
      ]
     },
     "execution_count": 26,
     "metadata": {},
     "output_type": "execute_result"
    }
   ],
   "source": [
    "dataset.head(8)"
   ]
  },
  {
   "cell_type": "code",
   "execution_count": 27,
   "id": "aed63ad3",
   "metadata": {},
   "outputs": [
    {
     "name": "stdout",
     "output_type": "stream",
     "text": [
      "O total de transações realizadas é: 18536\n",
      "Nosso número de clientes é: 4339\n"
     ]
    }
   ],
   "source": [
    "# Respondendo a duas perguntas de negócios.\n",
    "# Quantos transações foram realizadas?\n",
    "# Qual o total de clientes?\n",
    "numero_transacoes = dataset['N° de factura'].count()                  # len(dataset['ID Cliente'])\n",
    "numero_clientes = len(dataset['ID Cliente'].unique())\n",
    "\n",
    "print('O total de transações realizadas é: {}' .format(numero_transacoes))\n",
    "print('Nosso número de clientes é: {}' .format(numero_clientes))"
   ]
  },
  {
   "cell_type": "code",
   "execution_count": 28,
   "id": "f2de81f0",
   "metadata": {
    "scrolled": true
   },
   "outputs": [
    {
     "data": {
      "text/html": [
       "<div>\n",
       "<style scoped>\n",
       "    .dataframe tbody tr th:only-of-type {\n",
       "        vertical-align: middle;\n",
       "    }\n",
       "\n",
       "    .dataframe tbody tr th {\n",
       "        vertical-align: top;\n",
       "    }\n",
       "\n",
       "    .dataframe thead th {\n",
       "        text-align: right;\n",
       "    }\n",
       "</style>\n",
       "<table border=\"1\" class=\"dataframe\">\n",
       "  <thead>\n",
       "    <tr style=\"text-align: right;\">\n",
       "      <th></th>\n",
       "      <th>MontoTotal</th>\n",
       "    </tr>\n",
       "    <tr>\n",
       "      <th>ID Cliente</th>\n",
       "      <th></th>\n",
       "    </tr>\n",
       "  </thead>\n",
       "  <tbody>\n",
       "    <tr>\n",
       "      <th>12346.0</th>\n",
       "      <td>5.728181e+09</td>\n",
       "    </tr>\n",
       "    <tr>\n",
       "      <th>12347.0</th>\n",
       "      <td>1.839237e+06</td>\n",
       "    </tr>\n",
       "    <tr>\n",
       "      <th>12348.0</th>\n",
       "      <td>1.422256e+06</td>\n",
       "    </tr>\n",
       "    <tr>\n",
       "      <th>12349.0</th>\n",
       "      <td>1.109014e+06</td>\n",
       "    </tr>\n",
       "    <tr>\n",
       "      <th>12350.0</th>\n",
       "      <td>6.587680e+04</td>\n",
       "    </tr>\n",
       "    <tr>\n",
       "      <th>...</th>\n",
       "      <td>...</td>\n",
       "    </tr>\n",
       "    <tr>\n",
       "      <th>18280.0</th>\n",
       "      <td>8.127000e+03</td>\n",
       "    </tr>\n",
       "    <tr>\n",
       "      <th>18281.0</th>\n",
       "      <td>4.364280e+03</td>\n",
       "    </tr>\n",
       "    <tr>\n",
       "      <th>18282.0</th>\n",
       "      <td>9.695270e+03</td>\n",
       "    </tr>\n",
       "    <tr>\n",
       "      <th>18283.0</th>\n",
       "      <td>2.531530e+05</td>\n",
       "    </tr>\n",
       "    <tr>\n",
       "      <th>18287.0</th>\n",
       "      <td>1.372397e+06</td>\n",
       "    </tr>\n",
       "  </tbody>\n",
       "</table>\n",
       "<p>4339 rows × 1 columns</p>\n",
       "</div>"
      ],
      "text/plain": [
       "              MontoTotal\n",
       "ID Cliente              \n",
       "12346.0     5.728181e+09\n",
       "12347.0     1.839237e+06\n",
       "12348.0     1.422256e+06\n",
       "12349.0     1.109014e+06\n",
       "12350.0     6.587680e+04\n",
       "...                  ...\n",
       "18280.0     8.127000e+03\n",
       "18281.0     4.364280e+03\n",
       "18282.0     9.695270e+03\n",
       "18283.0     2.531530e+05\n",
       "18287.0     1.372397e+06\n",
       "\n",
       "[4339 rows x 1 columns]"
      ]
     },
     "execution_count": 28,
     "metadata": {},
     "output_type": "execute_result"
    }
   ],
   "source": [
    "# Qual o total gasto por cliente?\n",
    "gasto_por_cliente = dataset.groupby('ID Cliente')['MontoTotal'].sum()\n",
    "total_gasto = pd.DataFrame(gasto_por_cliente)\n",
    "total_gasto"
   ]
  },
  {
   "cell_type": "code",
   "execution_count": 29,
   "id": "7bc0eb70",
   "metadata": {},
   "outputs": [],
   "source": [
    "dataset2 = dataset"
   ]
  },
  {
   "cell_type": "code",
   "execution_count": 30,
   "id": "aab936ac",
   "metadata": {},
   "outputs": [
    {
     "data": {
      "text/html": [
       "<div>\n",
       "<style scoped>\n",
       "    .dataframe tbody tr th:only-of-type {\n",
       "        vertical-align: middle;\n",
       "    }\n",
       "\n",
       "    .dataframe tbody tr th {\n",
       "        vertical-align: top;\n",
       "    }\n",
       "\n",
       "    .dataframe thead th {\n",
       "        text-align: right;\n",
       "    }\n",
       "</style>\n",
       "<table border=\"1\" class=\"dataframe\">\n",
       "  <thead>\n",
       "    <tr style=\"text-align: right;\">\n",
       "      <th></th>\n",
       "      <th>Numero_fatura</th>\n",
       "      <th>Data_transacao</th>\n",
       "      <th>ID_cliente</th>\n",
       "      <th>País</th>\n",
       "      <th>Quantidade</th>\n",
       "      <th>Valor_fatura</th>\n",
       "      <th>Valor_total_fatura</th>\n",
       "    </tr>\n",
       "  </thead>\n",
       "  <tbody>\n",
       "    <tr>\n",
       "      <th>0</th>\n",
       "      <td>548370</td>\n",
       "      <td>3/30/2021 16:14:00</td>\n",
       "      <td>15528.0</td>\n",
       "      <td>United Kingdom</td>\n",
       "      <td>123</td>\n",
       "      <td>229.33</td>\n",
       "      <td>28207.59</td>\n",
       "    </tr>\n",
       "    <tr>\n",
       "      <th>1</th>\n",
       "      <td>575767</td>\n",
       "      <td>11/11/2021 11:11:00</td>\n",
       "      <td>17348.0</td>\n",
       "      <td>United Kingdom</td>\n",
       "      <td>163</td>\n",
       "      <td>209.73</td>\n",
       "      <td>34185.99</td>\n",
       "    </tr>\n",
       "    <tr>\n",
       "      <th>3</th>\n",
       "      <td>549106</td>\n",
       "      <td>4/6/2021 12:08:00</td>\n",
       "      <td>17045.0</td>\n",
       "      <td>United Kingdom</td>\n",
       "      <td>1</td>\n",
       "      <td>39.95</td>\n",
       "      <td>39.95</td>\n",
       "    </tr>\n",
       "    <tr>\n",
       "      <th>4</th>\n",
       "      <td>573112</td>\n",
       "      <td>10/27/2021 15:33:00</td>\n",
       "      <td>16416.0</td>\n",
       "      <td>United Kingdom</td>\n",
       "      <td>357</td>\n",
       "      <td>344.83</td>\n",
       "      <td>123104.31</td>\n",
       "    </tr>\n",
       "    <tr>\n",
       "      <th>5</th>\n",
       "      <td>576630</td>\n",
       "      <td>11/16/2021 8:38:00</td>\n",
       "      <td>13816.0</td>\n",
       "      <td>Germany</td>\n",
       "      <td>91</td>\n",
       "      <td>199.98</td>\n",
       "      <td>18198.18</td>\n",
       "    </tr>\n",
       "    <tr>\n",
       "      <th>...</th>\n",
       "      <td>...</td>\n",
       "      <td>...</td>\n",
       "      <td>...</td>\n",
       "      <td>...</td>\n",
       "      <td>...</td>\n",
       "      <td>...</td>\n",
       "      <td>...</td>\n",
       "    </tr>\n",
       "    <tr>\n",
       "      <th>25945</th>\n",
       "      <td>579252</td>\n",
       "      <td>11/28/2021 16:47:00</td>\n",
       "      <td>17450.0</td>\n",
       "      <td>United Kingdom</td>\n",
       "      <td>432</td>\n",
       "      <td>1034.40</td>\n",
       "      <td>446860.80</td>\n",
       "    </tr>\n",
       "    <tr>\n",
       "      <th>25946</th>\n",
       "      <td>574908</td>\n",
       "      <td>11/7/2021 15:37:00</td>\n",
       "      <td>16009.0</td>\n",
       "      <td>United Kingdom</td>\n",
       "      <td>28</td>\n",
       "      <td>82.76</td>\n",
       "      <td>2317.28</td>\n",
       "    </tr>\n",
       "    <tr>\n",
       "      <th>25949</th>\n",
       "      <td>553060</td>\n",
       "      <td>5/13/2021 10:44:00</td>\n",
       "      <td>15826.0</td>\n",
       "      <td>United Kingdom</td>\n",
       "      <td>488</td>\n",
       "      <td>720.00</td>\n",
       "      <td>351360.00</td>\n",
       "    </tr>\n",
       "    <tr>\n",
       "      <th>25950</th>\n",
       "      <td>577049</td>\n",
       "      <td>11/17/2021 13:58:00</td>\n",
       "      <td>17397.0</td>\n",
       "      <td>United Kingdom</td>\n",
       "      <td>104</td>\n",
       "      <td>298.78</td>\n",
       "      <td>31073.12</td>\n",
       "    </tr>\n",
       "    <tr>\n",
       "      <th>25951</th>\n",
       "      <td>550122</td>\n",
       "      <td>4/14/2021 12:39:00</td>\n",
       "      <td>12931.0</td>\n",
       "      <td>United Kingdom</td>\n",
       "      <td>1176</td>\n",
       "      <td>1488.00</td>\n",
       "      <td>1749888.00</td>\n",
       "    </tr>\n",
       "  </tbody>\n",
       "</table>\n",
       "<p>18536 rows × 7 columns</p>\n",
       "</div>"
      ],
      "text/plain": [
       "      Numero_fatura       Data_transacao  ID_cliente            País  \\\n",
       "0            548370   3/30/2021 16:14:00     15528.0  United Kingdom   \n",
       "1            575767  11/11/2021 11:11:00     17348.0  United Kingdom   \n",
       "3            549106    4/6/2021 12:08:00     17045.0  United Kingdom   \n",
       "4            573112  10/27/2021 15:33:00     16416.0  United Kingdom   \n",
       "5            576630   11/16/2021 8:38:00     13816.0         Germany   \n",
       "...             ...                  ...         ...             ...   \n",
       "25945        579252  11/28/2021 16:47:00     17450.0  United Kingdom   \n",
       "25946        574908   11/7/2021 15:37:00     16009.0  United Kingdom   \n",
       "25949        553060   5/13/2021 10:44:00     15826.0  United Kingdom   \n",
       "25950        577049  11/17/2021 13:58:00     17397.0  United Kingdom   \n",
       "25951        550122   4/14/2021 12:39:00     12931.0  United Kingdom   \n",
       "\n",
       "       Quantidade  Valor_fatura  Valor_total_fatura  \n",
       "0             123        229.33            28207.59  \n",
       "1             163        209.73            34185.99  \n",
       "3               1         39.95               39.95  \n",
       "4             357        344.83           123104.31  \n",
       "5              91        199.98            18198.18  \n",
       "...           ...           ...                 ...  \n",
       "25945         432       1034.40           446860.80  \n",
       "25946          28         82.76             2317.28  \n",
       "25949         488        720.00           351360.00  \n",
       "25950         104        298.78            31073.12  \n",
       "25951        1176       1488.00          1749888.00  \n",
       "\n",
       "[18536 rows x 7 columns]"
      ]
     },
     "execution_count": 30,
     "metadata": {},
     "output_type": "execute_result"
    }
   ],
   "source": [
    "# Renomeando as colunas do dataset\n",
    "renomeia_col = {\n",
    "    \n",
    "          'N° de factura' : 'Numero_fatura',\n",
    "          'Fecha de factura' : 'Data_transacao',\n",
    "          'ID Cliente' : 'ID_cliente',\n",
    "          'Cantidad' : 'Quantidade',\n",
    "          'Monto' : 'Valor_fatura',\n",
    "          'MontoTotal' : 'Valor_total_fatura'\n",
    "}\n",
    "\n",
    "# Faz as alterações no dataframe\n",
    "dataset2 = dataset2.rename(columns = renomeia_col)\n",
    "dataset2"
   ]
  },
  {
   "cell_type": "code",
   "execution_count": 31,
   "id": "6a293e48",
   "metadata": {
    "scrolled": true
   },
   "outputs": [
    {
     "data": {
      "text/plain": [
       "'0        2021-03-30\\n1        2021-11-11\\n3        2021-04-06\\n4        2021-10-27\\n5        2021-11-16\\n            ...    \\n25945    2021-11-28\\n25946    2021-11-07\\n25949    2021-05-13\\n25950    2021-11-17\\n25951    2021-04-14\\nName: Data_transacao, Length: 18536, dtype: object'"
      ]
     },
     "execution_count": 31,
     "metadata": {},
     "output_type": "execute_result"
    }
   ],
   "source": [
    "# Convertendo a coluna da data da transação para o tipo date e depois extraindo apenas a data de cada registro\n",
    "dataset2['Data_transacao'] = pd.to_datetime(dataset2['Data_transacao'], dayfirst = False)\n",
    "dataset2['Data_transacao'] =  dataset2['Data_transacao'].dt.date\n",
    "str(dataset2['Data_transacao'])"
   ]
  },
  {
   "cell_type": "code",
   "execution_count": 32,
   "id": "d0e79d04",
   "metadata": {},
   "outputs": [
    {
     "data": {
      "text/plain": [
       "(18536, 7)"
      ]
     },
     "execution_count": 32,
     "metadata": {},
     "output_type": "execute_result"
    }
   ],
   "source": [
    "dataset2.shape"
   ]
  },
  {
   "cell_type": "code",
   "execution_count": 33,
   "id": "845b845a",
   "metadata": {},
   "outputs": [
    {
     "name": "stdout",
     "output_type": "stream",
     "text": [
      "Data da última transação: 2021-12-09\n",
      "Data referência: 2021-12-31\n"
     ]
    }
   ],
   "source": [
    "# Verificaremos a data da última transação e criaremos uma data referência baseada na última transação\n",
    "# para em seguida realizar o calculo da frenquência.\n",
    "\n",
    "# Retorna a última transação\n",
    "print(\"Data da última transação: {}\" .format(max(dataset2['Data_transacao'])))\n",
    "\n",
    "# Converter a string para um objeto datetime\n",
    "date_ref = datetime.strptime(\"12/31/2021\", \"%m/%d/%Y\").date()\n",
    "print(f\"Data referência: {date_ref}\")"
   ]
  },
  {
   "cell_type": "code",
   "execution_count": 34,
   "id": "7f683dc8",
   "metadata": {},
   "outputs": [
    {
     "name": "stdout",
     "output_type": "stream",
     "text": [
      "      ID_cliente  Recencia  Frequencia     Monetario Primeira_Compra\n",
      "0        12346.0       347           1  5.728181e+09      2021-01-18\n",
      "1        12347.0        24           7  1.839237e+06      2020-12-07\n",
      "2        12348.0        97           4  1.422256e+06      2020-12-16\n",
      "3        12349.0        40           1  1.109014e+06      2021-11-21\n",
      "4        12350.0       332           1  6.587680e+04      2021-02-02\n",
      "...          ...       ...         ...           ...             ...\n",
      "4334     18280.0       299           1  8.127000e+03      2021-03-07\n",
      "4335     18281.0       202           1  4.364280e+03      2021-06-12\n",
      "4336     18282.0        29           2  9.695270e+03      2021-08-05\n",
      "4337     18283.0        25          16  2.531530e+05      2021-01-06\n",
      "4338     18287.0        64           3  1.372397e+06      2021-05-22\n",
      "\n",
      "[4339 rows x 5 columns]\n"
     ]
    }
   ],
   "source": [
    "# Agrupar por 'ID_cliente' e calcular as métricas\n",
    "x = dataset2.groupby('ID_cliente').agg(\n",
    "        Recencia = ('Data_transacao', lambda x: (date_ref - x.max()).days),\n",
    "        Frequencia = ('ID_cliente', 'count'),\n",
    "        Monetario = ('Valor_total_fatura', 'sum'),\n",
    "        Primeira_Compra = ('Data_transacao', 'min')\n",
    ").reset_index()\n",
    "\n",
    "# Mostrar o DataFrame resultante\n",
    "print(x)\n",
    "\n"
   ]
  },
  {
   "cell_type": "code",
   "execution_count": 35,
   "id": "d0c06ade",
   "metadata": {},
   "outputs": [],
   "source": [
    "# Tratando os valores outlies\n",
    "Q1 = x['Monetario'].quantile(0.25)\n",
    "Q3 = x['Monetario'].quantile(0.75)\n",
    "IQR = Q3 - Q1\n",
    "\n",
    "# Filtrando e removendo os valores outlies\n",
    "x = x[(x['Monetario'] >= (Q1 - 1.5 * IQR)) & (x['Monetario'] <= (Q3 + 1.5 * IQR))]"
   ]
  },
  {
   "cell_type": "code",
   "execution_count": 36,
   "id": "4c9fea49",
   "metadata": {},
   "outputs": [],
   "source": [
    "# Função para criar elipses em torno dos clusters\n",
    "def draw_ellipse(position, covariance, ax=None, **kwargs):\n",
    "    ax = ax or plt.gca()\n",
    "    if covariance.shape == (2, 2):\n",
    "        U, s, Vt = np.linalg.svd(covariance)\n",
    "        angle = np.degrees(np.arctan2(U[1, 0], U[0, 0]))\n",
    "        width, height = 2 * np.sqrt(s)\n",
    "    else:\n",
    "        angle = 0\n",
    "        width, height = 2 * np.sqrt(covariance)\n",
    "    for nsig in range(1, 4):\n",
    "        ax.add_patch(Ellipse(position, nsig * width, nsig * height,\n",
    "                             angle, **kwargs))\n"
   ]
  },
  {
   "cell_type": "code",
   "execution_count": 37,
   "id": "8b52ee67",
   "metadata": {},
   "outputs": [],
   "source": [
    "np.random.seed(42)\n",
    "\n",
    "def segmenta_cliente(rfm):\n",
    "    \n",
    "    # Cria um dicionário para armazenar os resultados\n",
    "    resultados = {}\n",
    "    \n",
    "    # Obtém os valores RFM\n",
    "    dados_rfm = rfm[['Recencia', 'Frequencia', 'Monetario']]\n",
    "    \n",
    "    # Cria o modelo k-means\n",
    "    modelo_kmeans = KMeans(n_clusters = 5, init = 'k-means++', max_iter = 50, random_state = 42)\n",
    "    modelo_kmeans.fit(dados_rfm)\n",
    "    \n",
    "    # Adiciona os rótulos de cluster aos dados RFM\n",
    "    dados_rfm['Customer ID'] = rfm['ID_cliente']\n",
    "    dados_rfm['clusters'] = modelo_kmeans.labels_\n",
    "    resultados['data'] = dados_rfm\n",
    "    \n",
    "    # Plot do modelo\n",
    "    plt.figure(figsize = (10, 8))\n",
    "    sns.scatterplot(data = dados_rfm, x = 'Recencia', y = 'Frequencia', hue = 'clusters', palette = 'viridis')\n",
    "    plt.title('Segmentação de Clientes usando K-means')\n",
    "    plt.xlabel('Recência')\n",
    "    plt.ylabel('Frequência')\n",
    "    plt.legend(title = 'Cluster')\n",
    "    plt.show()\n",
    "    \n",
    "    return resultados\n",
    "\n"
   ]
  },
  {
   "cell_type": "code",
   "execution_count": 38,
   "id": "f4643aea",
   "metadata": {},
   "outputs": [
    {
     "name": "stderr",
     "output_type": "stream",
     "text": [
      "/tmp/ipykernel_74338/3988703955.py:16: SettingWithCopyWarning: \n",
      "A value is trying to be set on a copy of a slice from a DataFrame.\n",
      "Try using .loc[row_indexer,col_indexer] = value instead\n",
      "\n",
      "See the caveats in the documentation: https://pandas.pydata.org/pandas-docs/stable/user_guide/indexing.html#returning-a-view-versus-a-copy\n",
      "  dados_rfm['Customer ID'] = rfm['ID_cliente']\n"
     ]
    },
    {
     "data": {
      "image/png": "[encoded data removed]",
      "text/plain": [
       "<Figure size 1000x800 with 1 Axes>"
      ]
     },
     "metadata": {},
     "output_type": "display_data"
    },
    {
     "data": {
      "text/plain": [
       "{'data':       Recencia  Frequencia  Monetario  Customer ID  clusters\n",
       " 4          332           1   65876.80      12350.0         3\n",
       " 5           58           8  144331.37      12352.0         0\n",
       " 6          226           1    1780.00      12353.0         3\n",
       " 7          254           1  572082.00      12354.0         4\n",
       " 8          236           1  110256.00      12355.0         0\n",
       " ...        ...         ...        ...          ...       ...\n",
       " 4333        95           1   11477.40      18278.0         3\n",
       " 4334       299           1    8127.00      18280.0         3\n",
       " 4335       202           1    4364.28      18281.0         3\n",
       " 4336        29           2    9695.27      18282.0         3\n",
       " 4337        25          16  253153.00      18283.0         0\n",
       " \n",
       " [3800 rows x 5 columns]}"
      ]
     },
     "execution_count": 38,
     "metadata": {},
     "output_type": "execute_result"
    }
   ],
   "source": [
    "# Grafico de segmentação\n",
    "grafico = segmenta_cliente(x)\n",
    "grafico"
   ]
  },
  {
   "cell_type": "code",
   "execution_count": 39,
   "id": "dfca348e",
   "metadata": {},
   "outputs": [
    {
     "data": {
      "text/html": [
       "<div>\n",
       "<style scoped>\n",
       "    .dataframe tbody tr th:only-of-type {\n",
       "        vertical-align: middle;\n",
       "    }\n",
       "\n",
       "    .dataframe tbody tr th {\n",
       "        vertical-align: top;\n",
       "    }\n",
       "\n",
       "    .dataframe thead th {\n",
       "        text-align: right;\n",
       "    }\n",
       "</style>\n",
       "<table border=\"1\" class=\"dataframe\">\n",
       "  <thead>\n",
       "    <tr style=\"text-align: right;\">\n",
       "      <th></th>\n",
       "      <th>ID_cliente</th>\n",
       "      <th>Recencia</th>\n",
       "      <th>Frequencia</th>\n",
       "      <th>Monetario</th>\n",
       "      <th>Primeira_Compra</th>\n",
       "    </tr>\n",
       "  </thead>\n",
       "  <tbody>\n",
       "    <tr>\n",
       "      <th>4</th>\n",
       "      <td>12350.0</td>\n",
       "      <td>332</td>\n",
       "      <td>1</td>\n",
       "      <td>65876.80</td>\n",
       "      <td>2021-02-02</td>\n",
       "    </tr>\n",
       "    <tr>\n",
       "      <th>5</th>\n",
       "      <td>12352.0</td>\n",
       "      <td>58</td>\n",
       "      <td>8</td>\n",
       "      <td>144331.37</td>\n",
       "      <td>2021-02-16</td>\n",
       "    </tr>\n",
       "    <tr>\n",
       "      <th>6</th>\n",
       "      <td>12353.0</td>\n",
       "      <td>226</td>\n",
       "      <td>1</td>\n",
       "      <td>1780.00</td>\n",
       "      <td>2021-05-19</td>\n",
       "    </tr>\n",
       "    <tr>\n",
       "      <th>7</th>\n",
       "      <td>12354.0</td>\n",
       "      <td>254</td>\n",
       "      <td>1</td>\n",
       "      <td>572082.00</td>\n",
       "      <td>2021-04-21</td>\n",
       "    </tr>\n",
       "    <tr>\n",
       "      <th>8</th>\n",
       "      <td>12355.0</td>\n",
       "      <td>236</td>\n",
       "      <td>1</td>\n",
       "      <td>110256.00</td>\n",
       "      <td>2021-05-09</td>\n",
       "    </tr>\n",
       "    <tr>\n",
       "      <th>...</th>\n",
       "      <td>...</td>\n",
       "      <td>...</td>\n",
       "      <td>...</td>\n",
       "      <td>...</td>\n",
       "      <td>...</td>\n",
       "    </tr>\n",
       "    <tr>\n",
       "      <th>4333</th>\n",
       "      <td>18278.0</td>\n",
       "      <td>95</td>\n",
       "      <td>1</td>\n",
       "      <td>11477.40</td>\n",
       "      <td>2021-09-27</td>\n",
       "    </tr>\n",
       "    <tr>\n",
       "      <th>4334</th>\n",
       "      <td>18280.0</td>\n",
       "      <td>299</td>\n",
       "      <td>1</td>\n",
       "      <td>8127.00</td>\n",
       "      <td>2021-03-07</td>\n",
       "    </tr>\n",
       "    <tr>\n",
       "      <th>4335</th>\n",
       "      <td>18281.0</td>\n",
       "      <td>202</td>\n",
       "      <td>1</td>\n",
       "      <td>4364.28</td>\n",
       "      <td>2021-06-12</td>\n",
       "    </tr>\n",
       "    <tr>\n",
       "      <th>4336</th>\n",
       "      <td>18282.0</td>\n",
       "      <td>29</td>\n",
       "      <td>2</td>\n",
       "      <td>9695.27</td>\n",
       "      <td>2021-08-05</td>\n",
       "    </tr>\n",
       "    <tr>\n",
       "      <th>4337</th>\n",
       "      <td>18283.0</td>\n",
       "      <td>25</td>\n",
       "      <td>16</td>\n",
       "      <td>253153.00</td>\n",
       "      <td>2021-01-06</td>\n",
       "    </tr>\n",
       "  </tbody>\n",
       "</table>\n",
       "<p>3800 rows × 5 columns</p>\n",
       "</div>"
      ],
      "text/plain": [
       "      ID_cliente  Recencia  Frequencia  Monetario Primeira_Compra\n",
       "4        12350.0       332           1   65876.80      2021-02-02\n",
       "5        12352.0        58           8  144331.37      2021-02-16\n",
       "6        12353.0       226           1    1780.00      2021-05-19\n",
       "7        12354.0       254           1  572082.00      2021-04-21\n",
       "8        12355.0       236           1  110256.00      2021-05-09\n",
       "...          ...       ...         ...        ...             ...\n",
       "4333     18278.0        95           1   11477.40      2021-09-27\n",
       "4334     18280.0       299           1    8127.00      2021-03-07\n",
       "4335     18281.0       202           1    4364.28      2021-06-12\n",
       "4336     18282.0        29           2    9695.27      2021-08-05\n",
       "4337     18283.0        25          16  253153.00      2021-01-06\n",
       "\n",
       "[3800 rows x 5 columns]"
      ]
     },
     "execution_count": 39,
     "metadata": {},
     "output_type": "execute_result"
    }
   ],
   "source": [
    "# Tabela\n",
    "x"
   ]
  },
  {
   "cell_type": "code",
   "execution_count": null,
   "id": "60963fdf-ef24-450d-84e2-50adc660eb3c",
   "metadata": {},
   "outputs": [],
   "source": []
  }
 ],
 "metadata": {
  "kernelspec": {
   "display_name": "base",
   "language": "python",
   "name": "python3"
  },
  "language_info": {
   "codemirror_mode": {
    "name": "ipython",
    "version": 3
   },
   "file_extension": ".py",
   "mimetype": "text/x-python",
   "name": "python",
   "nbconvert_exporter": "python",
   "pygments_lexer": "ipython3",
   "version": "3.12.4"
  }
 },
 "nbformat": 4,
 "nbformat_minor": 5
}
